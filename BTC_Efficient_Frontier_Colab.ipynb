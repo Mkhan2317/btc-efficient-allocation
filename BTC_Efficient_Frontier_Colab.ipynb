{
  "cells": [
    {
      "cell_type": "markdown",
      "metadata": {
        "id": "view-in-github",
        "colab_type": "text"
      },
      "source": [
        "<a href=\"https://colab.research.google.com/github/Mkhan2317/btc-efficient-allocation/blob/main/BTC_Efficient_Frontier_Colab.ipynb\" target=\"_parent\"><img src=\"https://colab.research.google.com/assets/colab-badge.svg\" alt=\"Open In Colab\"/></a>"
      ]
    },
    {
      "cell_type": "markdown",
      "id": "8ee36b7a",
      "metadata": {
        "id": "8ee36b7a"
      },
      "source": [
        "# How Bitcoin Shifts the Efficient Frontier — Colab Notebook\n",
        "\n",
        "*Walk-Forward Multi-Objective Optimization Study in Python*\n"
      ]
    },
    {
      "cell_type": "markdown",
      "id": "ede72968",
      "metadata": {
        "id": "ede72968"
      },
      "source": [
        "## Quick Start (Colab)\n",
        "1. **Open this notebook in Google Colab.**\n",
        "2. Run the first cell to install dependencies.\n",
        "3. Hit **Runtime → Run all**.\n",
        "\n",
        "> Tip: If markets are closed, data updates may lag a bit. You can adjust the date range in the config cell.\n"
      ]
    },
    {
      "cell_type": "code",
      "execution_count": 11,
      "id": "925613ac",
      "metadata": {
        "id": "925613ac"
      },
      "outputs": [],
      "source": [
        "# Colab dependencies\n",
        "# (Uncomment if needed; Colab often already has them.)\n",
        "# %pip install yfinance numpy pandas matplotlib"
      ]
    },
    {
      "cell_type": "markdown",
      "source": [
        "## 🧩 Objective\n",
        "\n",
        "This study investigates whether adding **Bitcoin (BTC)** to a traditional stock portfolio enhances **risk-adjusted performance** under realistic market frictions.\n",
        "\n",
        "We employ a **walk-forward mean–variance optimizer** with:\n",
        "\n",
        "- Long-only weight constraints  \n",
        "- BTC allocation capped at **10%**  \n",
        "- **EWMA covariance** estimation  \n",
        "- **Mean and covariance shrinkage**  \n",
        "- **Rolling winsorization** of returns  \n",
        "- **Turnover costs** applied at each rebalance  \n",
        "- **Intersected trading-day calendar** for consistency across assets  \n",
        "\n",
        "---\n",
        "\n",
        "### ⚙️ Optimization Framework\n",
        "\n",
        "The optimizer minimizes the scalarized mean–variance objective\n",
        "\n",
        "$$\n",
        "J_{\\alpha}(w) = (1 - \\alpha)\\, w^{\\top} \\Sigma w \\;-\\; \\alpha\\, \\mu^{\\top} w,\n",
        "$$\n",
        "\n",
        "subject to\n",
        "\n",
        "$$\n",
        "w \\ge 0, \\quad \\mathbf{1}^{\\top} w = 1, \\quad w_{\\text{BTC}} \\le 0.10.\n",
        "$$\n",
        "\n",
        "---\n",
        "\n",
        "### 📈 Key Out-of-Sample (OOS) Results\n",
        "\n",
        "- **Sharpe Ratio:** improved from  \n",
        "  $$ S_{\\text{stocks}} \\approx 0.60 \\;\\rightarrow\\; S_{\\text{stocks+BTC}} \\approx 0.86 $$\n",
        "- **Annual Return:**  \n",
        "  $$ R_{\\text{ann}} \\approx 8.31\\% \\;\\rightarrow\\; 12.27\\% $$\n",
        "- **Volatility:**  \n",
        "  $$ \\sigma_{\\text{ann}} \\approx 13.93\\% \\;\\rightarrow\\; 14.34\\% $$\n",
        "- **Calmar Ratio:**  \n",
        "  $$ C \\approx 0.23 \\;\\rightarrow\\; 0.31 $$\n",
        "\n",
        "Although the maximum drawdown was deeper, the higher return more than compensated, resulting in a superior risk-adjusted profile.\n",
        "\n",
        "---\n",
        "\n",
        "### 💡 Interpretation\n",
        "\n",
        "The **average realized BTC weight** at the optimal setting was approximately **5.8%**, never reaching the 10% cap.  \n",
        "Hence, the performance improvement reflects **true diversification benefits**, not excessive crypto exposure.\n"
      ],
      "metadata": {
        "id": "Na9eAohOzGj9"
      },
      "id": "Na9eAohOzGj9"
    },
    {
      "cell_type": "markdown",
      "id": "e8f47d11",
      "metadata": {
        "id": "e8f47d11"
      },
      "source": [
        "## 1) Imports & Global Config"
      ]
    },
    {
      "cell_type": "code",
      "execution_count": 12,
      "id": "e8700fcb",
      "metadata": {
        "id": "e8700fcb"
      },
      "outputs": [],
      "source": [
        "import warnings\n",
        "import numpy as np\n",
        "import pandas as pd\n",
        "import yfinance as yf\n",
        "import matplotlib.pyplot as plt\n",
        "\n",
        "warnings.filterwarnings(\"ignore\")\n",
        "\n",
        "# ---- Core Config ----\n",
        "start_date = \"2015-01-01\"\n",
        "end_date   = \"2025-01-01\"\n",
        "\n",
        "stocks = [\"SPY\", \"VEU\", \"QQQ\", \"IWM\"]\n",
        "\n",
        "add_btc = True\n",
        "btc_tkr = \"BTC-USD\"\n",
        "btc_cap = 0.10  # cap as a fraction of total portfolio weight\n",
        "\n",
        "# Calendar mode:\n",
        "#   - \"trading\": intersection of trading days (clean for ETFs + BTC)\n",
        "#   - \"calendar\": forward-fill to calendar days (lets BTC 'live' on weekends)\n",
        "calendar_mode = \"trading\"\n",
        "\n",
        "# Robustness controls\n",
        "winsorize_q   = 0.005            # rolling winsorization quantile\n",
        "lookback_days = 63               # estimation window\n",
        "hold_days     = 63               # out-of-sample hold/rebalance period\n",
        "tc_bps_roundtrip = 10.0          # turnover cost in basis points (round trip)\n",
        "\n",
        "# Estimation knobs\n",
        "use_ewma_cov = True\n",
        "ewma_lambda  = 0.94\n",
        "cov_shrink   = 0.10              # diagonal shrinkage\n",
        "mu_shrink    = 0.90              # mean shrink toward 0\n",
        "\n",
        "# Frontier tracing\n",
        "alpha_grid_points = 21           # 0.00 ... 1.00\n",
        "save_plot = True\n",
        "out_prefix = \"stocks_vs_btc\"\n",
        "\n",
        "ANN = 252 if calendar_mode == \"trading\" else 365\n",
        "\n",
        "# Repro\n",
        "np.set_printoptions(precision=5, suppress=True)"
      ]
    },
    {
      "cell_type": "markdown",
      "id": "0187ff13",
      "metadata": {
        "id": "0187ff13"
      },
      "source": [
        "## 2) Setup & Definitions\n",
        "\n",
        "**Daily simple return**  \n",
        "$$\n",
        "r_{i,t} = \\frac{P_{i,t}}{P_{i,t-1}} - 1\n",
        "$$\n",
        "\n",
        "**Annualization** (trading calendar)  \n",
        "$$\n",
        "\\mu_{\\text{ann}} = \\bar{r} \\cdot \\text{ANN}, \\quad\n",
        "\\sigma_{\\text{ann}} = s \\cdot \\sqrt{\\text{ANN}}\n",
        "$$\n",
        "\n",
        "**Walk-forward:**  \n",
        "Estimate on a rolling window of `lookback_days`, then hold the portfolio for `hold_days` out-of-sample, with turnover costs applied at each rebalance.\n",
        "\n",
        "**Objective (scalarized mean–variance):** for \\( \\alpha \\in [0,1] \\)\n",
        "\n",
        "$$\n",
        "J_\\alpha(w) = (1-\\alpha)\\, w^\\top \\Sigma w \\; - \\; \\alpha\\, \\mu^\\top w,\n",
        "\\quad\n",
        "\\text{s.t. } \\; w \\ge 0, \\; \\mathbf{1}^\\top w = 1, \\; \\text{and caps.}\n",
        "$$\n",
        "\n",
        "We use projected gradient steps onto the simplex (and apply caps), with **EWMA covariance** and **simple shrinkage** for robustness.\n"
      ]
    },
    {
      "cell_type": "markdown",
      "id": "42f730e3",
      "metadata": {
        "id": "42f730e3"
      },
      "source": [
        "## 3) Data Download & Returns"
      ]
    },
    {
      "cell_type": "code",
      "execution_count": 25,
      "id": "bde39e5a",
      "metadata": {
        "colab": {
          "base_uri": "https://localhost:8080/",
          "height": 81
        },
        "id": "bde39e5a",
        "outputId": "5c5cad7f-0546-421f-94ce-5ba5520b5b24"
      },
      "outputs": [
        {
          "output_type": "display_data",
          "data": {
            "text/plain": [
              "   Rows (R_stocks)  Cols (R_stocks)  Rows (R_plus)  Cols (R_plus)\n",
              "0             3651                4           3651              5"
            ],
            "text/html": [
              "\n",
              "  <div id=\"df-6c8ba32a-b6a9-4282-b78d-f33f09127226\" class=\"colab-df-container\">\n",
              "    <div>\n",
              "<style scoped>\n",
              "    .dataframe tbody tr th:only-of-type {\n",
              "        vertical-align: middle;\n",
              "    }\n",
              "\n",
              "    .dataframe tbody tr th {\n",
              "        vertical-align: top;\n",
              "    }\n",
              "\n",
              "    .dataframe thead th {\n",
              "        text-align: right;\n",
              "    }\n",
              "</style>\n",
              "<table border=\"1\" class=\"dataframe\">\n",
              "  <thead>\n",
              "    <tr style=\"text-align: right;\">\n",
              "      <th></th>\n",
              "      <th>Rows (R_stocks)</th>\n",
              "      <th>Cols (R_stocks)</th>\n",
              "      <th>Rows (R_plus)</th>\n",
              "      <th>Cols (R_plus)</th>\n",
              "    </tr>\n",
              "  </thead>\n",
              "  <tbody>\n",
              "    <tr>\n",
              "      <th>0</th>\n",
              "      <td>3651</td>\n",
              "      <td>4</td>\n",
              "      <td>3651</td>\n",
              "      <td>5</td>\n",
              "    </tr>\n",
              "  </tbody>\n",
              "</table>\n",
              "</div>\n",
              "    <div class=\"colab-df-buttons\">\n",
              "\n",
              "  <div class=\"colab-df-container\">\n",
              "    <button class=\"colab-df-convert\" onclick=\"convertToInteractive('df-6c8ba32a-b6a9-4282-b78d-f33f09127226')\"\n",
              "            title=\"Convert this dataframe to an interactive table.\"\n",
              "            style=\"display:none;\">\n",
              "\n",
              "  <svg xmlns=\"http://www.w3.org/2000/svg\" height=\"24px\" viewBox=\"0 -960 960 960\">\n",
              "    <path d=\"M120-120v-720h720v720H120Zm60-500h600v-160H180v160Zm220 220h160v-160H400v160Zm0 220h160v-160H400v160ZM180-400h160v-160H180v160Zm440 0h160v-160H620v160ZM180-180h160v-160H180v160Zm440 0h160v-160H620v160Z\"/>\n",
              "  </svg>\n",
              "    </button>\n",
              "\n",
              "  <style>\n",
              "    .colab-df-container {\n",
              "      display:flex;\n",
              "      gap: 12px;\n",
              "    }\n",
              "\n",
              "    .colab-df-convert {\n",
              "      background-color: #E8F0FE;\n",
              "      border: none;\n",
              "      border-radius: 50%;\n",
              "      cursor: pointer;\n",
              "      display: none;\n",
              "      fill: #1967D2;\n",
              "      height: 32px;\n",
              "      padding: 0 0 0 0;\n",
              "      width: 32px;\n",
              "    }\n",
              "\n",
              "    .colab-df-convert:hover {\n",
              "      background-color: #E2EBFA;\n",
              "      box-shadow: 0px 1px 2px rgba(60, 64, 67, 0.3), 0px 1px 3px 1px rgba(60, 64, 67, 0.15);\n",
              "      fill: #174EA6;\n",
              "    }\n",
              "\n",
              "    .colab-df-buttons div {\n",
              "      margin-bottom: 4px;\n",
              "    }\n",
              "\n",
              "    [theme=dark] .colab-df-convert {\n",
              "      background-color: #3B4455;\n",
              "      fill: #D2E3FC;\n",
              "    }\n",
              "\n",
              "    [theme=dark] .colab-df-convert:hover {\n",
              "      background-color: #434B5C;\n",
              "      box-shadow: 0px 1px 3px 1px rgba(0, 0, 0, 0.15);\n",
              "      filter: drop-shadow(0px 1px 2px rgba(0, 0, 0, 0.3));\n",
              "      fill: #FFFFFF;\n",
              "    }\n",
              "  </style>\n",
              "\n",
              "    <script>\n",
              "      const buttonEl =\n",
              "        document.querySelector('#df-6c8ba32a-b6a9-4282-b78d-f33f09127226 button.colab-df-convert');\n",
              "      buttonEl.style.display =\n",
              "        google.colab.kernel.accessAllowed ? 'block' : 'none';\n",
              "\n",
              "      async function convertToInteractive(key) {\n",
              "        const element = document.querySelector('#df-6c8ba32a-b6a9-4282-b78d-f33f09127226');\n",
              "        const dataTable =\n",
              "          await google.colab.kernel.invokeFunction('convertToInteractive',\n",
              "                                                    [key], {});\n",
              "        if (!dataTable) return;\n",
              "\n",
              "        const docLinkHtml = 'Like what you see? Visit the ' +\n",
              "          '<a target=\"_blank\" href=https://colab.research.google.com/notebooks/data_table.ipynb>data table notebook</a>'\n",
              "          + ' to learn more about interactive tables.';\n",
              "        element.innerHTML = '';\n",
              "        dataTable['output_type'] = 'display_data';\n",
              "        await google.colab.output.renderOutput(dataTable, element);\n",
              "        const docLink = document.createElement('div');\n",
              "        docLink.innerHTML = docLinkHtml;\n",
              "        element.appendChild(docLink);\n",
              "      }\n",
              "    </script>\n",
              "  </div>\n",
              "\n",
              "\n",
              "    </div>\n",
              "  </div>\n"
            ],
            "application/vnd.google.colaboratory.intrinsic+json": {
              "type": "dataframe",
              "summary": "{\n  \"name\": \"}))\",\n  \"rows\": 1,\n  \"fields\": [\n    {\n      \"column\": \"Rows (R_stocks)\",\n      \"properties\": {\n        \"dtype\": \"number\",\n        \"std\": null,\n        \"min\": 3651,\n        \"max\": 3651,\n        \"num_unique_values\": 1,\n        \"samples\": [\n          3651\n        ],\n        \"semantic_type\": \"\",\n        \"description\": \"\"\n      }\n    },\n    {\n      \"column\": \"Cols (R_stocks)\",\n      \"properties\": {\n        \"dtype\": \"number\",\n        \"std\": null,\n        \"min\": 4,\n        \"max\": 4,\n        \"num_unique_values\": 1,\n        \"samples\": [\n          4\n        ],\n        \"semantic_type\": \"\",\n        \"description\": \"\"\n      }\n    },\n    {\n      \"column\": \"Rows (R_plus)\",\n      \"properties\": {\n        \"dtype\": \"number\",\n        \"std\": null,\n        \"min\": 3651,\n        \"max\": 3651,\n        \"num_unique_values\": 1,\n        \"samples\": [\n          3651\n        ],\n        \"semantic_type\": \"\",\n        \"description\": \"\"\n      }\n    },\n    {\n      \"column\": \"Cols (R_plus)\",\n      \"properties\": {\n        \"dtype\": \"number\",\n        \"std\": null,\n        \"min\": 5,\n        \"max\": 5,\n        \"num_unique_values\": 1,\n        \"samples\": [\n          5\n        ],\n        \"semantic_type\": \"\",\n        \"description\": \"\"\n      }\n    }\n  ]\n}"
            }
          },
          "metadata": {}
        }
      ],
      "source": [
        "# Build ticker list\n",
        "tickers = stocks + ([btc_tkr] if add_btc else [])\n",
        "\n",
        "# Download adjusted prices\n",
        "px = yf.download(tickers, start=start_date, end=end_date, auto_adjust=False, progress=False)\n",
        "\n",
        "# If yfinance returns a column MultiIndex, select 'Adj Close'\n",
        "if isinstance(px.columns, pd.MultiIndex):\n",
        "    px = px.xs(\"Adj Close\", axis=1, level=0)\n",
        "\n",
        "# Ensure column order\n",
        "px = px.sort_index()[tickers]\n",
        "\n",
        "# Choose calendar\n",
        "if calendar_mode == \"calendar\":\n",
        "    px_use = px.ffill()\n",
        "    r_all = px_use.pct_change().dropna(how=\"all\")\n",
        "else:\n",
        "    r_all = px.pct_change().dropna()\n",
        "\n",
        "# Split return matrices\n",
        "R_stocks = r_all[[c for c in stocks if c in r_all.columns]].dropna()\n",
        "R_plus   = r_all[[c for c in tickers if c in r_all.columns]].dropna()\n",
        "\n",
        "display(pd.DataFrame({\n",
        "    \"Rows (R_stocks)\": [len(R_stocks)],\n",
        "    \"Cols (R_stocks)\": [R_stocks.shape[1]],\n",
        "    \"Rows (R_plus)\":   [len(R_plus)],\n",
        "    \"Cols (R_plus)\":   [R_plus.shape[1]],\n",
        "}))"
      ]
    },
    {
      "cell_type": "markdown",
      "id": "c9982b6d",
      "metadata": {
        "id": "c9982b6d"
      },
      "source": [
        "## 4) Rolling Winsorization\n",
        "We clip today’s returns using quantiles computed over a trailing window. This helps reduce tail contamination in $(\\Sigma)$."
      ]
    },
    {
      "cell_type": "code",
      "execution_count": 14,
      "id": "69616832",
      "metadata": {
        "id": "69616832"
      },
      "outputs": [],
      "source": [
        "def rolling_winsorize(df: pd.DataFrame, q: float = 0.005, win: int = 252) -> pd.DataFrame:\n",
        "    if not q or q <= 0:\n",
        "        return df.copy()\n",
        "    out = []\n",
        "    for i in range(len(df)):\n",
        "        if i == 0:\n",
        "            out.append(df.iloc[[i]])\n",
        "            continue\n",
        "        lo = df.iloc[max(0, i - win):i].quantile(q)\n",
        "        hi = df.iloc[max(0, i - win):i].quantile(1 - q)\n",
        "        out.append(df.iloc[[i]].clip(lower=lo, upper=hi, axis=1))\n",
        "    return pd.concat(out, axis=0)\n",
        "\n",
        "# Apply winsorization\n",
        "r_all = rolling_winsorize(r_all, winsorize_q, win=max(252, lookback_days))\n",
        "R_stocks = r_all[[c for c in stocks if c in r_all.columns]].dropna()\n",
        "R_plus   = r_all[[c for c in tickers if c in r_all.columns]].dropna()"
      ]
    },
    {
      "cell_type": "markdown",
      "id": "258b7e75",
      "metadata": {
        "id": "258b7e75"
      },
      "source": [
        "## 5) Estimators: EWMA Covariance & Shrinkage"
      ]
    },
    {
      "cell_type": "code",
      "execution_count": 15,
      "id": "3e52ff5f",
      "metadata": {
        "id": "3e52ff5f"
      },
      "outputs": [],
      "source": [
        "def ewma_cov_mat(X: np.ndarray, lam: float = 0.94) -> np.ndarray:\n",
        "    S = np.zeros((X.shape[1], X.shape[1]))\n",
        "    for t in range(X.shape[0]):\n",
        "        x = X[t]\n",
        "        S = lam * S + (1 - lam) * np.outer(x, x)\n",
        "    return S / (1 - lam)\n",
        "\n",
        "def estimate_mu_Sigma(Xdf: pd.DataFrame):\n",
        "    X = Xdf.to_numpy()\n",
        "    mu = Xdf.mean().to_numpy() * ANN  # annualized mean\n",
        "    # Mean shrinkage toward 0\n",
        "    if mu_shrink > 0:\n",
        "        mu = (1 - mu_shrink) * mu\n",
        "    # Covariance\n",
        "    if use_ewma_cov:\n",
        "        S = ewma_cov_mat(X, ewma_lambda)\n",
        "    else:\n",
        "        S = np.cov(X, rowvar=False)\n",
        "    S = S * ANN  # annualize\n",
        "    # Diagonal shrinkage\n",
        "    if cov_shrink > 0:\n",
        "        D = np.diag(np.diag(S))\n",
        "        S = (1 - cov_shrink) * S + cov_shrink * D\n",
        "    return mu, S"
      ]
    },
    {
      "cell_type": "markdown",
      "id": "36be7635",
      "metadata": {
        "id": "36be7635"
      },
      "source": [
        "## 6) Constraints & Caps\n",
        "\n",
        "We project weights onto the **simplex**, enforcing non-negativity and full investment constraints:\n",
        "\n",
        "$$\n",
        "w \\ge 0, \\quad \\mathbf{1}^\\top w = 1\n",
        "$$\n",
        "\n",
        "Optionally, **per-asset caps** are applied before re-projecting:\n",
        "\n",
        "$$\n",
        "w_i \\le \\text{cap}_i, \\quad \\forall i \\in \\{1, \\dots, N\\}\n",
        "$$\n",
        "\n",
        "This ensures realistic long-only portfolios with bounded exposure to any single asset.\n"
      ]
    },
    {
      "cell_type": "code",
      "execution_count": 16,
      "id": "1862bd8b",
      "metadata": {
        "id": "1862bd8b"
      },
      "outputs": [],
      "source": [
        "def proj_simplex(w: np.ndarray) -> np.ndarray:\n",
        "    # Euclidean projection onto the unit simplex\n",
        "    u = np.sort(w)[::-1]\n",
        "    cssv = np.cumsum(u)\n",
        "    rho = np.nonzero(u * (np.arange(1, len(u) + 1)) > (cssv - 1))[0][-1]\n",
        "    theta = (cssv[rho] - 1) / (rho + 1)\n",
        "    w = np.maximum(w - theta, 0.0)\n",
        "    s = w.sum()\n",
        "    return w / s if s > 0 else np.ones_like(w) / len(w)\n",
        "\n",
        "def apply_caps_vec(w: np.ndarray, cols, caps: dict | None):\n",
        "    if not caps:\n",
        "        return w\n",
        "    v = np.array([caps.get(c, 1.0) for c in cols])\n",
        "    w = np.minimum(w, v)\n",
        "    return proj_simplex(w)"
      ]
    },
    {
      "cell_type": "markdown",
      "id": "23e2482b",
      "metadata": {
        "id": "23e2482b"
      },
      "source": [
        "## 7) Per-Window Optimizer (Projected Gradient on MV Objective)"
      ]
    },
    {
      "cell_type": "code",
      "execution_count": 17,
      "id": "b069ac9b",
      "metadata": {
        "id": "b069ac9b"
      },
      "outputs": [],
      "source": [
        "def opt_mv_long_only(Xdf: pd.DataFrame, alpha: float, caps: dict | None = None) -> pd.Series:\n",
        "    cols = list(Xdf.columns)\n",
        "    n = len(cols)\n",
        "    mu, S = estimate_mu_Sigma(Xdf)\n",
        "    w = np.ones(n) / n\n",
        "    J_prev = np.inf\n",
        "    step = 0.05  # fixed step size; small is stable here\n",
        "    for _ in range(1500):\n",
        "        g = 2 * (1 - alpha) * (S @ w) - alpha * mu\n",
        "        wn = proj_simplex(w - step * g)\n",
        "        wn = apply_caps_vec(wn, cols, caps)\n",
        "        J = (1 - alpha) * (wn @ S @ wn) - alpha * (mu @ wn)\n",
        "        if abs(J_prev - J) < 1e-8:\n",
        "            w = wn\n",
        "            break\n",
        "        w, J_prev = wn, J\n",
        "    return pd.Series(w, index=cols)"
      ]
    },
    {
      "cell_type": "markdown",
      "id": "c672a2de",
      "metadata": {
        "id": "c672a2de"
      },
      "source": [
        "## 8) Weight Drift, Turnover Costs & Walk-Forward Mechanics"
      ]
    },
    {
      "cell_type": "code",
      "execution_count": 18,
      "id": "2994f466",
      "metadata": {
        "id": "2994f466"
      },
      "outputs": [],
      "source": [
        "def drift_weights(w: pd.Series, r: pd.Series) -> pd.Series:\n",
        "    gross = w * (1.0 + r)\n",
        "    s = gross.sum()\n",
        "    return gross / (s if s > 0 else 1)\n",
        "\n",
        "def wf_oos_per_alpha(df: pd.DataFrame, alpha: float, hold: int = 63, lookback: int = 63,\n",
        "                     tc_bps: float = 0.0, caps: dict | None = None, log_weights: bool = False):\n",
        "    T = len(df)\n",
        "    i = lookback\n",
        "    prev_target = None\n",
        "    last_reb = None\n",
        "    pieces = []\n",
        "    weights_log = []\n",
        "\n",
        "    while i < T:\n",
        "        j = min(i + hold, T)\n",
        "        est = df.iloc[i - lookback:i]\n",
        "\n",
        "        # Require enough data and no NaNs in estimation window\n",
        "        if est.isnull().values.any() or len(est) < int(0.8 * lookback):\n",
        "            i = j\n",
        "            continue\n",
        "\n",
        "        w = opt_mv_long_only(est, float(alpha), caps=caps)\n",
        "\n",
        "        # Turnover vs a *drifted* portfolio (more realistic than against last target)\n",
        "        if prev_target is not None and last_reb is not None:\n",
        "            drifted = prev_target.copy()\n",
        "            for t in range(last_reb, i):\n",
        "                day_r = df.iloc[t].reindex(drifted.index).fillna(0.0)\n",
        "                drifted = drift_weights(drifted, day_r)\n",
        "            turnover = float((w.fillna(0) - drifted.fillna(0)).abs().sum())\n",
        "        else:\n",
        "            turnover = float(w.abs().sum())\n",
        "\n",
        "        seg = df.iloc[i:j].dot(w)\n",
        "\n",
        "        # Apply one-shot turnover cost at the rebalance open\n",
        "        if tc_bps > 0 and len(seg) > 0:\n",
        "            seg.iloc[0] -= (tc_bps / 10_000.0) * turnover\n",
        "\n",
        "        pieces.append(seg)\n",
        "\n",
        "        if log_weights:\n",
        "            rec = {\"date\": df.index[i], \"alpha\": float(alpha), \"turnover\": turnover}\n",
        "            rec.update({k: float(v) for k, v in w.items()})\n",
        "            weights_log.append(rec)\n",
        "\n",
        "        prev_target = w\n",
        "        last_reb = i\n",
        "        i = j\n",
        "\n",
        "    curve = pd.concat(pieces).sort_index() if pieces else pd.Series(dtype=float)\n",
        "    wl = pd.DataFrame(weights_log).set_index(\"date\") if log_weights and weights_log else pd.DataFrame()\n",
        "    return curve, wl"
      ]
    },
    {
      "cell_type": "markdown",
      "id": "dd8e0667",
      "metadata": {
        "id": "dd8e0667"
      },
      "source": [
        "## 9) Performance Metrics"
      ]
    },
    {
      "cell_type": "code",
      "execution_count": 19,
      "id": "dd4b29b9",
      "metadata": {
        "id": "dd4b29b9"
      },
      "outputs": [],
      "source": [
        "def metrics(curve: pd.Series) -> dict:\n",
        "    if curve.empty:\n",
        "        return dict(ann_return=np.nan, ann_vol=np.nan, sharpe=np.nan,\n",
        "                    sortino=np.nan, maxdd=np.nan, calmar=np.nan)\n",
        "    rets = curve.copy()\n",
        "    ann_mu = rets.mean() * ANN\n",
        "    ann_vol = rets.std() * np.sqrt(ANN)\n",
        "    sharpe = ann_mu / (ann_vol + 1e-12)\n",
        "    downside = rets[rets < 0].std() * np.sqrt(ANN)\n",
        "    sortino = ann_mu / (downside + 1e-12)\n",
        "    eq = (1 + rets).cumprod()\n",
        "    peak = eq.cummax()\n",
        "    dd = (eq / peak - 1).min()\n",
        "    calmar = ann_mu / (abs(dd) + 1e-12) if dd < 0 else np.nan\n",
        "    return dict(ann_return=ann_mu, ann_vol=ann_vol, sharpe=sharpe,\n",
        "                sortino=sortino, maxdd=dd, calmar=calmar)"
      ]
    },
    {
      "cell_type": "markdown",
      "id": "daabacb6",
      "metadata": {
        "id": "daabacb6"
      },
      "source": [
        "## 10) Run: Stocks-Only vs. Stocks+BTC (Capped)"
      ]
    },
    {
      "cell_type": "code",
      "execution_count": 10,
      "id": "be04e679",
      "metadata": {
        "colab": {
          "base_uri": "https://localhost:8080/",
          "height": 143
        },
        "id": "be04e679",
        "outputId": "88a5afc6-91aa-48ee-ea90-212a57be9131"
      },
      "outputs": [
        {
          "output_type": "display_data",
          "data": {
            "text/plain": [
              "<pandas.io.formats.style.Styler at 0x7aeaa170ee10>"
            ],
            "text/html": [
              "<style type=\"text/css\">\n",
              "</style>\n",
              "<table id=\"T_5ec0d\" class=\"dataframe\">\n",
              "  <thead>\n",
              "    <tr>\n",
              "      <th class=\"blank level0\" >&nbsp;</th>\n",
              "      <th id=\"T_5ec0d_level0_col0\" class=\"col_heading level0 col0\" >alpha</th>\n",
              "      <th id=\"T_5ec0d_level0_col1\" class=\"col_heading level0 col1\" >ann_return</th>\n",
              "      <th id=\"T_5ec0d_level0_col2\" class=\"col_heading level0 col2\" >ann_vol</th>\n",
              "      <th id=\"T_5ec0d_level0_col3\" class=\"col_heading level0 col3\" >sharpe</th>\n",
              "      <th id=\"T_5ec0d_level0_col4\" class=\"col_heading level0 col4\" >sortino</th>\n",
              "      <th id=\"T_5ec0d_level0_col5\" class=\"col_heading level0 col5\" >maxdd</th>\n",
              "      <th id=\"T_5ec0d_level0_col6\" class=\"col_heading level0 col6\" >calmar</th>\n",
              "    </tr>\n",
              "  </thead>\n",
              "  <tbody>\n",
              "    <tr>\n",
              "      <th id=\"T_5ec0d_level0_row0\" class=\"row_heading level0 row0\" >0</th>\n",
              "      <td id=\"T_5ec0d_row0_col0\" class=\"data row0 col0\" >0.00</td>\n",
              "      <td id=\"T_5ec0d_row0_col1\" class=\"data row0 col1\" >0.0691</td>\n",
              "      <td id=\"T_5ec0d_row0_col2\" class=\"data row0 col2\" >0.1250</td>\n",
              "      <td id=\"T_5ec0d_row0_col3\" class=\"data row0 col3\" >0.553</td>\n",
              "      <td id=\"T_5ec0d_row0_col4\" class=\"data row0 col4\" >0.598</td>\n",
              "      <td id=\"T_5ec0d_row0_col5\" class=\"data row0 col5\" >-0.307</td>\n",
              "      <td id=\"T_5ec0d_row0_col6\" class=\"data row0 col6\" >0.225</td>\n",
              "    </tr>\n",
              "    <tr>\n",
              "      <th id=\"T_5ec0d_level0_row1\" class=\"row_heading level0 row1\" >1</th>\n",
              "      <td id=\"T_5ec0d_row1_col0\" class=\"data row1 col0\" >0.05</td>\n",
              "      <td id=\"T_5ec0d_row1_col1\" class=\"data row1 col1\" >0.0692</td>\n",
              "      <td id=\"T_5ec0d_row1_col2\" class=\"data row1 col2\" >0.1250</td>\n",
              "      <td id=\"T_5ec0d_row1_col3\" class=\"data row1 col3\" >0.554</td>\n",
              "      <td id=\"T_5ec0d_row1_col4\" class=\"data row1 col4\" >0.599</td>\n",
              "      <td id=\"T_5ec0d_row1_col5\" class=\"data row1 col5\" >-0.307</td>\n",
              "      <td id=\"T_5ec0d_row1_col6\" class=\"data row1 col6\" >0.226</td>\n",
              "    </tr>\n",
              "    <tr>\n",
              "      <th id=\"T_5ec0d_level0_row2\" class=\"row_heading level0 row2\" >2</th>\n",
              "      <td id=\"T_5ec0d_row2_col0\" class=\"data row2 col0\" >0.10</td>\n",
              "      <td id=\"T_5ec0d_row2_col1\" class=\"data row2 col1\" >0.0693</td>\n",
              "      <td id=\"T_5ec0d_row2_col2\" class=\"data row2 col2\" >0.1250</td>\n",
              "      <td id=\"T_5ec0d_row2_col3\" class=\"data row2 col3\" >0.554</td>\n",
              "      <td id=\"T_5ec0d_row2_col4\" class=\"data row2 col4\" >0.599</td>\n",
              "      <td id=\"T_5ec0d_row2_col5\" class=\"data row2 col5\" >-0.307</td>\n",
              "      <td id=\"T_5ec0d_row2_col6\" class=\"data row2 col6\" >0.226</td>\n",
              "    </tr>\n",
              "  </tbody>\n",
              "</table>\n"
            ]
          },
          "metadata": {}
        }
      ],
      "source": [
        "alphas = np.linspace(0.0, 1.0, alpha_grid_points)\n",
        "caps_stocks = None\n",
        "caps_plus   = {btc_tkr: btc_cap} if (btc_cap is not None and add_btc) else None\n",
        "\n",
        "res_stocks, res_plus, wlogs_plus = {}, {}, {}\n",
        "\n",
        "for a in alphas:\n",
        "    curve_s, _  = wf_oos_per_alpha(R_stocks, a, hold_days, lookback_days, tc_bps_roundtrip, caps_stocks, log_weights=False)\n",
        "    curve_p, wl = wf_oos_per_alpha(R_plus,   a, hold_days, lookback_days, tc_bps_roundtrip, caps_plus,   log_weights=True)\n",
        "    res_stocks[a] = curve_s\n",
        "    res_plus[a]   = curve_p\n",
        "    wlogs_plus[a] = wl\n",
        "\n",
        "def frontier_df(res_dict: dict) -> pd.DataFrame:\n",
        "    rows = []\n",
        "    for a, curve in res_dict.items():\n",
        "        m = metrics(curve)\n",
        "        rows.append({\"alpha\": float(a), **m})\n",
        "    return pd.DataFrame(rows).sort_values(\"alpha\").reset_index(drop=True)\n",
        "\n",
        "front_stocks = frontier_df(res_stocks)\n",
        "front_plus   = frontier_df(res_plus)\n",
        "\n",
        "display(front_stocks.head(3).style.format({\n",
        "    \"alpha\": \"{:.2f}\", \"ann_return\": \"{:.4f}\", \"ann_vol\": \"{:.4f}\", \"sharpe\": \"{:.3f}\",\n",
        "    \"sortino\": \"{:.3f}\", \"maxdd\": \"{:.3f}\", \"calmar\": \"{:.3f}\"\n",
        "}))"
      ]
    },
    {
      "cell_type": "markdown",
      "id": "af70fa1f",
      "metadata": {
        "id": "af70fa1f"
      },
      "source": [
        "## 11) Plot: Walk-Forward Frontier (OOS)"
      ]
    },
    {
      "cell_type": "code",
      "execution_count": 20,
      "id": "e569b046",
      "metadata": {
        "colab": {
          "base_uri": "https://localhost:8080/",
          "height": 507
        },
        "id": "e569b046",
        "outputId": "5301cd6f-379b-4430-85f6-d75a3dda2f9e"
      },
      "outputs": [
        {
          "output_type": "display_data",
          "data": {
            "text/plain": [
              "<Figure size 700x500 with 1 Axes>"
            ],
            "image/png": "[encoded data removed]"
          },
          "metadata": {}
        }
      ],
      "source": [
        "fig, ax = plt.subplots(figsize=(7,5))\n",
        "ax.plot(front_stocks[\"ann_vol\"], front_stocks[\"ann_return\"], marker=\"o\", label=\"Stocks-only\")\n",
        "ax.plot(front_plus[\"ann_vol\"],   front_plus[\"ann_return\"],   marker=\"o\", label=f\"Stocks+BTC (cap={btc_cap:.0%})\")\n",
        "ax.set_xlabel(\"Annualized Volatility\")\n",
        "ax.set_ylabel(\"Annualized Return\")\n",
        "ax.set_title(\"Walk-Forward Frontier (OOS): Stocks vs Stocks+BTC\")\n",
        "ax.legend()\n",
        "fig.tight_layout()\n",
        "if save_plot:\n",
        "    fig.savefig(f\"{out_prefix}_wf_frontier.jpg\", dpi=150)\n",
        "plt.show()"
      ]
    },
    {
      "cell_type": "markdown",
      "source": [
        "At a given volatility (x), the higher curve (y) is better. We can see that the Stocks+BTC curve\n",
        "consistently above Stocks-only at multiple risk levels"
      ],
      "metadata": {
        "id": "nEZ8yMqM15g5"
      },
      "id": "nEZ8yMqM15g5"
    },
    {
      "cell_type": "markdown",
      "id": "e9f2b781",
      "metadata": {
        "id": "e9f2b781"
      },
      "source": [
        "## 12) Best Sharpe & BTC Diagnostics"
      ]
    },
    {
      "cell_type": "code",
      "execution_count": 21,
      "id": "2f220ac7",
      "metadata": {
        "colab": {
          "base_uri": "https://localhost:8080/"
        },
        "id": "2f220ac7",
        "outputId": "9f104d1d-0831-4bbb-ce68-2fe70af64c8e"
      },
      "outputs": [
        {
          "output_type": "stream",
          "name": "stdout",
          "text": [
            "Best (Stocks-only):\n",
            "    alpha  ann_return  ann_vol  sharpe  sortino   maxdd  calmar\n",
            "19   0.95      0.0831   0.1393  0.5963    0.667 -0.3549  0.2341\n",
            "\n",
            "Best (Stocks+BTC):\n",
            "    alpha  ann_return  ann_vol  sharpe  sortino  maxdd  calmar\n",
            "19   0.95      0.1227   0.1434  0.8555   1.0292 -0.399  0.3074\n",
            "Average realized BTC weight at best alpha: 5.79%\n",
            "% rebalances at BTC cap (10%): 0.0%\n"
          ]
        }
      ],
      "source": [
        "best_s = front_stocks.iloc[front_stocks[\"sharpe\"].idxmax()]\n",
        "best_p = front_plus.iloc[front_plus[\"sharpe\"].idxmax()]\n",
        "\n",
        "print(\"Best (Stocks-only):\")\n",
        "print(best_s.to_frame().T.round(4))\n",
        "print(\"\\nBest (Stocks+BTC):\")\n",
        "print(best_p.to_frame().T.round(4))\n",
        "\n",
        "a_s = float(best_s[\"alpha\"])\n",
        "a_p = float(best_p[\"alpha\"])\n",
        "\n",
        "avg_btc_w = np.nan\n",
        "pct_at_cap = np.nan\n",
        "if add_btc and btc_tkr in R_plus.columns:\n",
        "    wlog_star = wlogs_plus.get(a_p)\n",
        "    if wlog_star is not None and not wlog_star.empty and btc_tkr in wlog_star.columns:\n",
        "        btc_w = wlog_star[btc_tkr]\n",
        "        at_cap = np.isclose(btc_w, btc_cap, atol=1e-6) if btc_cap is not None else np.array([False]*len(btc_w))\n",
        "        pct_at_cap = 100.0 * at_cap.mean() if len(btc_w) > 0 else np.nan\n",
        "        avg_btc_w = float(btc_w.mean()) if len(btc_w) > 0 else np.nan\n",
        "\n",
        "print(f\"Average realized BTC weight at best alpha: {avg_btc_w:.2%}\" if not np.isnan(avg_btc_w) else \"Average BTC weight: n/a\")\n",
        "if btc_cap is not None and not np.isnan(pct_at_cap):\n",
        "    print(f\"% rebalances at BTC cap ({btc_cap:.0%}): {pct_at_cap:.1f}%\")"
      ]
    },
    {
      "cell_type": "markdown",
      "source": [
        "## What My Run Showed\n",
        "\n",
        "At the optimal configuration:\n",
        "\n",
        "- **Stocks-only:**  \n",
        "  $$\n",
        "  S \\approx 0.60, \\quad R_{\\text{ann}} \\approx 8.31\\%, \\quad\n",
        "  \\sigma_{\\text{ann}} \\approx 13.93\\%, \\quad\n",
        "  \\text{MDD} \\approx -35.5\\%, \\quad\n",
        "  C \\approx 0.23\n",
        "  $$\n",
        "\n",
        "- **Stocks + BTC (10% cap):**  \n",
        "  $$\n",
        "  S \\approx 0.86, \\quad R_{\\text{ann}} \\approx 12.27\\%, \\quad\n",
        "  \\sigma_{\\text{ann}} \\approx 14.34\\%, \\quad\n",
        "  \\text{MDD} \\approx -39.9\\%, \\quad\n",
        "  C \\approx 0.31\n",
        "  $$\n",
        "\n",
        "- **BTC diagnostics:**  \n",
        "  $$\n",
        "  w_{\\text{BTC, avg}} \\approx 5.8\\%, \\quad\n",
        "  \\text{at-cap rebalances} = 0\\%\n",
        "  $$\n",
        "\n",
        "🟢 A modest BTC sleeve enhanced the portfolio’s **risk-adjusted efficiency**, mainly through **diversification**, not leverage.\n"
      ],
      "metadata": {
        "id": "O703HX_22cZQ"
      },
      "id": "O703HX_22cZQ"
    },
    {
      "cell_type": "markdown",
      "id": "87cbe210",
      "metadata": {
        "id": "87cbe210"
      },
      "source": [
        "## 13) Cumulative Equity at Best-Sharpe Points"
      ]
    },
    {
      "cell_type": "code",
      "execution_count": 22,
      "id": "ab2620ad",
      "metadata": {
        "colab": {
          "base_uri": "https://localhost:8080/",
          "height": 507
        },
        "id": "ab2620ad",
        "outputId": "47d57140-5625-4ba5-c54b-000db603f44e"
      },
      "outputs": [
        {
          "output_type": "display_data",
          "data": {
            "text/plain": [
              "<Figure size 700x500 with 1 Axes>"
            ],
            "image/png": "[encoded data removed]"
          },
          "metadata": {}
        }
      ],
      "source": [
        "eq_s = (1 + res_stocks[a_s]).cumprod()\n",
        "eq_p = (1 + res_plus[a_p]).cumprod()\n",
        "\n",
        "plt.figure(figsize=(7,5))\n",
        "plt.plot(eq_s.index, eq_s.values, label=f\"Stocks-only (α={a_s:.2f})\")\n",
        "plt.plot(eq_p.index, eq_p.values, label=f\"Stocks+BTC (α={a_p:.2f}, cap={btc_cap:.0%})\")\n",
        "plt.title(\"Cumulative Equity (OOS)\")\n",
        "plt.ylabel(\"Growth of $1\")\n",
        "plt.legend()\n",
        "plt.tight_layout()\n",
        "if save_plot:\n",
        "    plt.savefig(f\"{out_prefix}_equity_best_sharpe.jpg\", dpi=150)\n",
        "plt.show()"
      ]
    },
    {
      "cell_type": "markdown",
      "id": "f20965af",
      "metadata": {
        "id": "f20965af"
      },
      "source": [
        "## 14) Compact Metrics Table (Best Points)"
      ]
    },
    {
      "cell_type": "code",
      "execution_count": 24,
      "id": "5cf3645e",
      "metadata": {
        "colab": {
          "base_uri": "https://localhost:8080/"
        },
        "id": "5cf3645e",
        "outputId": "7f095e50-5bdd-400e-ce6d-8cb0642f1f54"
      },
      "outputs": [
        {
          "output_type": "stream",
          "name": "stdout",
          "text": [
            "      Universe  alpha  ann_return  ann_vol  sharpe  sortino  maxdd  calmar\n",
            "0  Stocks-only   0.95      0.0831   0.1393   0.596    0.667 -0.355   0.234\n",
            "1   Stocks+BTC   0.95      0.1227   0.1434   0.855    1.029 -0.399   0.307\n"
          ]
        }
      ],
      "source": [
        "disp = pd.DataFrame([\n",
        "    {\"Universe\": \"Stocks-only\", **{k: best_s[k] for k in [\"alpha\",\"ann_return\",\"ann_vol\",\"sharpe\",\"sortino\",\"maxdd\",\"calmar\"]}},\n",
        "    {\"Universe\": \"Stocks+BTC\", **{k: best_p[k] for k in [\"alpha\",\"ann_return\",\"ann_vol\",\"sharpe\",\"sortino\",\"maxdd\",\"calmar\"]}},\n",
        "])\n",
        "\n",
        "print(disp.round({\n",
        "    \"alpha\": 2, \"ann_return\": 4, \"ann_vol\": 4, \"sharpe\": 3, \"sortino\": 3, \"maxdd\": 3, \"calmar\": 3\n",
        "}))"
      ]
    },
    {
      "cell_type": "markdown",
      "source": [
        "At the same level of risk aversion $(\\alpha = 0.95) $, introducing a **10%-capped Bitcoin (BTC) allocation** into the portfolio meaningfully enhances performance.  \n",
        "The out-of-sample Sharpe ratio increases from  \n",
        "\n",
        "$$\n",
        "S_{\\text{stocks}} = 0.60 \\;\\;\\longrightarrow\\;\\; S_{\\text{stocks+BTC}} = 0.86\n",
        "$$  \n",
        "\n",
        "indicating a stronger risk-adjusted return profile.\n",
        "\n",
        "The **annualized return** rises from  \n",
        "\n",
        "$$\n",
        "R_{\\text{ann}} = 8.31\\% \\;\\;\\longrightarrow\\;\\; 12.27\\%\n",
        "$$  \n",
        "\n",
        "while **volatility** increases only slightly:  \n",
        "\n",
        "$$\n",
        "\\sigma_{\\text{ann}} = 13.93\\% \\;\\;\\longrightarrow\\;\\; 14.34\\%.\n",
        "$$  \n",
        "\n",
        "Although the **maximum drawdown** deepens modestly—from  \n",
        "\n",
        "$$\n",
        "\\text{MDD} = -35.5\\% \\;\\;\\longrightarrow\\;\\; -39.9\\%,\n",
        "$$  \n",
        "\n",
        "the **Calmar ratio** still improves:  \n",
        "\n",
        "$$\n",
        "C = 0.234 \\;\\;\\longrightarrow\\;\\; 0.307,\n",
        "$$  \n",
        "\n",
        "indicating greater return per unit of downside risk.\n",
        "\n",
        "Importantly, the **average realized BTC weight** remained around **6%**, never reaching the 10% cap at rebalance.  \n",
        "This outcome confirms that the improvement stems from **diversification effects**, not from excessive crypto concentration.\n"
      ],
      "metadata": {
        "id": "-RnaAY_S1Nlm"
      },
      "id": "-RnaAY_S1Nlm"
    },
    {
      "cell_type": "markdown",
      "id": "99d99b91",
      "metadata": {
        "id": "99d99b91"
      },
      "source": [
        "## 15) Future Work  & Extensions\n",
        "- **Sensitivity:** Try `btc_cap = 0.05`, `0.10`, `0.20` and `hold_days = 21` for faster rebalances.\n",
        "- **Broader universes:** Consider adding bonds (e.g., `AGG`), gold (`GLD`), or commodities.\n",
        "- **Regime logic:** Activate BTC exposure only in risk-on regimes.\n",
        "- **Risk-target MV:** Solve a small QP for min-variance subject to \\(\\mu^\\top w \\ge R^*\\) to trace an exact frontier.\n"
      ]
    },
    {
      "cell_type": "markdown",
      "source": [
        "##  Conclusion\n",
        "\n",
        "A **small, capped Bitcoin (BTC) allocation** meaningfully improved the **out-of-sample efficient frontier** over this period, even under realistic trading frictions and portfolio constraints.\n",
        "\n",
        "The enhancement arose from **diversification**, not from outsized BTC exposure.  \n",
        "When managed prudently — with caps, turnover control, and disciplined rebalancing — crypto can serve as a **constructive complement** to a traditional equity portfolio.\n",
        "\n",
        "In summary:\n",
        "\n",
        "$$\n",
        "\\text{Improvement Source: Diversification} \\quad \\text{not} \\quad \\text{Leverage or Concentration.}\n",
        "$$\n",
        "\n",
        "A measured BTC sleeve can therefore **shift the efficient frontier upward**, enhancing the trade-off between expected return and risk.\n"
      ],
      "metadata": {
        "id": "u6n_apU51i3J"
      },
      "id": "u6n_apU51i3J"
    },
    {
      "cell_type": "code",
      "source": [],
      "metadata": {
        "id": "iPEEo1R_1bYi"
      },
      "id": "iPEEo1R_1bYi",
      "execution_count": null,
      "outputs": []
    }
  ],
  "metadata": {
    "colab": {
      "provenance": [],
      "include_colab_link": true
    },
    "language_info": {
      "name": "python"
    },
    "kernelspec": {
      "name": "python3",
      "display_name": "Python 3"
    }
  },
  "nbformat": 4,
  "nbformat_minor": 5
}